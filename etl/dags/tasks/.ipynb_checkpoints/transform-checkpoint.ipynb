{
 "cells": [
  {
   "cell_type": "code",
   "execution_count": 2,
   "id": "eef89081-ca5f-41be-80fb-357026bf1527",
   "metadata": {},
   "outputs": [],
   "source": [
    "import pandas as pd"
   ]
  },
  {
   "cell_type": "code",
   "execution_count": 4,
   "id": "8a707d3e-95ff-4c60-9d08-570dd190b1db",
   "metadata": {},
   "outputs": [
    {
     "data": {
      "text/plain": [
       "'C:\\\\Users\\\\compt\\\\Desktop\\\\de_code\\\\offmarket_re\\\\etl\\\\dags\\\\tasks'"
      ]
     },
     "execution_count": 4,
     "metadata": {},
     "output_type": "execute_result"
    }
   ],
   "source": [
    "%pwd"
   ]
  },
  {
   "cell_type": "code",
   "execution_count": null,
   "id": "bb6506f2-bf14-4287-b535-487ac7cb9e2a",
   "metadata": {},
   "outputs": [],
   "source": [
    "cadastre = pd.read_json(\"C:/Users/compt/Desktop/de_code/offmarket_re/data/raw/cadastre-13-parcelles.json\")"
   ]
  },
  {
   "cell_type": "code",
   "execution_count": null,
   "id": "297df545-f008-4052-87da-80d500e8e678",
   "metadata": {},
   "outputs": [],
   "source": [
    "cadastre.head()"
   ]
  },
  {
   "cell_type": "code",
   "execution_count": null,
   "id": "41f78845-fdfa-44b3-aa11-863a453402d1",
   "metadata": {},
   "outputs": [],
   "source": []
  }
 ],
 "metadata": {
  "kernelspec": {
   "display_name": "Python 3 (ipykernel)",
   "language": "python",
   "name": "python3"
  },
  "language_info": {
   "codemirror_mode": {
    "name": "ipython",
    "version": 3
   },
   "file_extension": ".py",
   "mimetype": "text/x-python",
   "name": "python",
   "nbconvert_exporter": "python",
   "pygments_lexer": "ipython3",
   "version": "3.11.1"
  }
 },
 "nbformat": 4,
 "nbformat_minor": 5
}
