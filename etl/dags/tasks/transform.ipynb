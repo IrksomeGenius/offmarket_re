{
 "cells": [
  {
   "cell_type": "code",
   "execution_count": 2,
   "id": "eef89081-ca5f-41be-80fb-357026bf1527",
   "metadata": {},
   "outputs": [],
   "source": [
    "import pandas as pd"
   ]
  },
  {
   "cell_type": "code",
   "execution_count": 4,
   "id": "8a707d3e-95ff-4c60-9d08-570dd190b1db",
   "metadata": {},
   "outputs": [
    {
     "data": {
      "text/plain": [
       "'C:\\\\Users\\\\compt\\\\Desktop\\\\de_code\\\\offmarket_re\\\\etl\\\\dags\\\\tasks'"
      ]
     },
     "execution_count": 4,
     "metadata": {},
     "output_type": "execute_result"
    }
   ],
   "source": [
    "%pwd"
   ]
  },
  {
   "cell_type": "code",
   "execution_count": 5,
   "id": "bb6506f2-bf14-4287-b535-487ac7cb9e2a",
   "metadata": {},
   "outputs": [],
   "source": [
    "cadastre = pd.read_json(\"C:/Users/compt/Desktop/de_code/offmarket_re/data/raw/cadastre-13-parcelles.json\")"
   ]
  },
  {
   "cell_type": "code",
   "execution_count": 9,
   "id": "297df545-f008-4052-87da-80d500e8e678",
   "metadata": {
    "scrolled": true
   },
   "outputs": [
    {
     "data": {
      "text/plain": [
       "{'type': 'Feature',\n",
       " 'id': '130030000A0518',\n",
       " 'geometry': {'type': 'Polygon',\n",
       "  'coordinates': [[[5.1603894, 43.7195791],\n",
       "    [5.1605969, 43.719432499999996],\n",
       "    [5.1611015, 43.7194071],\n",
       "    [5.1611179, 43.719241],\n",
       "    [5.1613321, 43.7192105],\n",
       "    [5.1615721, 43.7191399],\n",
       "    [5.1614863, 43.7188847],\n",
       "    [5.1618465, 43.7189198],\n",
       "    [5.1619572, 43.7189257],\n",
       "    [5.1619802, 43.7189107],\n",
       "    [5.1620083, 43.7188701],\n",
       "    [5.1621835, 43.7189351],\n",
       "    [5.162449, 43.7190167],\n",
       "    [5.162547, 43.7190511],\n",
       "    [5.1630932, 43.7191772],\n",
       "    [5.1635009, 43.7192654],\n",
       "    [5.1638974, 43.7183397],\n",
       "    [5.1637925, 43.7183192],\n",
       "    [5.1636743, 43.7182923],\n",
       "    [5.1635578, 43.7182618],\n",
       "    [5.16297, 43.7180636],\n",
       "    [5.1628854, 43.7180417],\n",
       "    [5.1626113, 43.7180371],\n",
       "    [5.1625321, 43.7180423],\n",
       "    [5.1625941, 43.7180007],\n",
       "    [5.162734, 43.7180062],\n",
       "    [5.1628884, 43.7180259],\n",
       "    [5.163149, 43.7180588],\n",
       "    [5.1633832, 43.7180907],\n",
       "    [5.1636182999999996, 43.7181189],\n",
       "    [5.1637022, 43.718128],\n",
       "    [5.1644269, 43.7181837],\n",
       "    [5.164336, 43.7183346],\n",
       "    [5.1642911, 43.7185373],\n",
       "    [5.1642636, 43.7185925],\n",
       "    [5.1642057, 43.7186666],\n",
       "    [5.1639837, 43.7189238],\n",
       "    [5.1637659, 43.719183],\n",
       "    [5.1637025, 43.7192599],\n",
       "    [5.1637919, 43.7195566],\n",
       "    [5.1632473, 43.7195701],\n",
       "    [5.1631467, 43.7195551],\n",
       "    [5.16296, 43.7195136],\n",
       "    [5.1624272, 43.7193741],\n",
       "    [5.1623793, 43.7193767],\n",
       "    [5.1623619, 43.7193934],\n",
       "    [5.1621837, 43.7197214],\n",
       "    [5.1621444, 43.7197851],\n",
       "    [5.1620173, 43.720021],\n",
       "    [5.1620042, 43.7200405],\n",
       "    [5.1619866, 43.7200582],\n",
       "    [5.1619652, 43.7200733],\n",
       "    [5.1619405, 43.7200855],\n",
       "    [5.1613644, 43.7202626],\n",
       "    [5.1608508, 43.720424],\n",
       "    [5.1606044, 43.7205186],\n",
       "    [5.1605823, 43.7205495],\n",
       "    [5.1601548, 43.7206496],\n",
       "    [5.1597255, 43.7207461],\n",
       "    [5.1594667, 43.7208024],\n",
       "    [5.1590436, 43.7209069],\n",
       "    [5.1590144, 43.720919],\n",
       "    [5.1589674, 43.7206858],\n",
       "    [5.1590854, 43.7205078],\n",
       "    [5.1598955, 43.7199281],\n",
       "    [5.1602952, 43.7199533],\n",
       "    [5.1603052, 43.7199081],\n",
       "    [5.1603446, 43.7197433],\n",
       "    [5.1603894, 43.7195791]]]},\n",
       " 'properties': {'id': '130030000A0518',\n",
       "  'commune': '13003',\n",
       "  'prefixe': '000',\n",
       "  'section': 'A',\n",
       "  'numero': '518',\n",
       "  'contenance': 34879,\n",
       "  'arpente': False,\n",
       "  'created': '2007-02-13',\n",
       "  'updated': '2021-03-17'}}"
      ]
     },
     "execution_count": 9,
     "metadata": {},
     "output_type": "execute_result"
    }
   ],
   "source": [
    "cadastre.features[0]"
   ]
  },
  {
   "cell_type": "code",
   "execution_count": 12,
   "id": "fd46aa3e-550f-4a74-bc17-04827c8fac93",
   "metadata": {
    "scrolled": true
   },
   "outputs": [
    {
     "name": "stdout",
     "output_type": "stream",
     "text": [
      "Collecting geopandasNote: you may need to restart the kernel to use updated packages.\n",
      "\n",
      "  Downloading geopandas-0.14.3-py3-none-any.whl.metadata (1.5 kB)\n",
      "Collecting fiona>=1.8.21 (from geopandas)\n",
      "  Downloading fiona-1.9.6-cp311-cp311-win_amd64.whl.metadata (51 kB)\n",
      "     ---------------------------------------- 0.0/51.5 kB ? eta -:--:--\n",
      "     ---------------------------------------- 51.5/51.5 kB 1.3 MB/s eta 0:00:00\n",
      "Requirement already satisfied: packaging in c:\\users\\compt\\appdata\\local\\programs\\python\\python311\\lib\\site-packages (from geopandas) (21.3)\n",
      "Requirement already satisfied: pandas>=1.4.0 in c:\\users\\compt\\appdata\\local\\programs\\python\\python311\\lib\\site-packages (from geopandas) (2.2.1)\n",
      "Collecting pyproj>=3.3.0 (from geopandas)\n",
      "  Downloading pyproj-3.6.1-cp311-cp311-win_amd64.whl.metadata (31 kB)\n",
      "Collecting shapely>=1.8.0 (from geopandas)\n",
      "  Downloading shapely-2.0.3-cp311-cp311-win_amd64.whl.metadata (7.2 kB)\n",
      "Requirement already satisfied: attrs>=19.2.0 in c:\\users\\compt\\appdata\\local\\programs\\python\\python311\\lib\\site-packages (from fiona>=1.8.21->geopandas) (23.2.0)\n",
      "Requirement already satisfied: certifi in c:\\users\\compt\\appdata\\local\\programs\\python\\python311\\lib\\site-packages (from fiona>=1.8.21->geopandas) (2024.2.2)\n",
      "Requirement already satisfied: click~=8.0 in c:\\users\\compt\\appdata\\local\\programs\\python\\python311\\lib\\site-packages (from fiona>=1.8.21->geopandas) (8.1.7)\n",
      "Collecting click-plugins>=1.0 (from fiona>=1.8.21->geopandas)\n",
      "  Downloading click_plugins-1.1.1-py2.py3-none-any.whl.metadata (6.4 kB)\n",
      "Collecting cligj>=0.5 (from fiona>=1.8.21->geopandas)\n",
      "  Downloading cligj-0.7.2-py3-none-any.whl.metadata (5.0 kB)\n",
      "Requirement already satisfied: six in c:\\users\\compt\\appdata\\local\\programs\\python\\python311\\lib\\site-packages (from fiona>=1.8.21->geopandas) (1.16.0)\n",
      "Requirement already satisfied: numpy<2,>=1.23.2 in c:\\users\\compt\\appdata\\local\\programs\\python\\python311\\lib\\site-packages (from pandas>=1.4.0->geopandas) (1.23.5)\n",
      "Requirement already satisfied: python-dateutil>=2.8.2 in c:\\users\\compt\\appdata\\local\\programs\\python\\python311\\lib\\site-packages (from pandas>=1.4.0->geopandas) (2.9.0.post0)\n",
      "Requirement already satisfied: pytz>=2020.1 in c:\\users\\compt\\appdata\\local\\programs\\python\\python311\\lib\\site-packages (from pandas>=1.4.0->geopandas) (2024.1)\n",
      "Requirement already satisfied: tzdata>=2022.7 in c:\\users\\compt\\appdata\\local\\programs\\python\\python311\\lib\\site-packages (from pandas>=1.4.0->geopandas) (2024.1)\n",
      "Requirement already satisfied: pyparsing!=3.0.5,>=2.0.2 in c:\\users\\compt\\appdata\\local\\programs\\python\\python311\\lib\\site-packages (from packaging->geopandas) (3.0.9)\n",
      "Requirement already satisfied: colorama in c:\\users\\compt\\appdata\\local\\programs\\python\\python311\\lib\\site-packages (from click~=8.0->fiona>=1.8.21->geopandas) (0.4.6)\n",
      "Downloading geopandas-0.14.3-py3-none-any.whl (1.1 MB)\n",
      "   ---------------------------------------- 0.0/1.1 MB ? eta -:--:--\n",
      "   ----------- ---------------------------- 0.3/1.1 MB 6.5 MB/s eta 0:00:01\n",
      "   ---------------------- ----------------- 0.6/1.1 MB 6.7 MB/s eta 0:00:01\n",
      "   --------------------------------- ------ 0.9/1.1 MB 6.6 MB/s eta 0:00:01\n",
      "   ---------------------------------------- 1.1/1.1 MB 5.9 MB/s eta 0:00:00\n",
      "Downloading fiona-1.9.6-cp311-cp311-win_amd64.whl (22.9 MB)\n",
      "   ---------------------------------------- 0.0/22.9 MB ? eta -:--:--\n",
      "   ---------------------------------------- 0.2/22.9 MB 5.0 MB/s eta 0:00:05\n",
      "    --------------------------------------- 0.6/22.9 MB 5.8 MB/s eta 0:00:04\n",
      "   - -------------------------------------- 0.8/22.9 MB 5.9 MB/s eta 0:00:04\n",
      "   -- ------------------------------------- 1.2/22.9 MB 6.1 MB/s eta 0:00:04\n",
      "   -- ------------------------------------- 1.4/22.9 MB 6.1 MB/s eta 0:00:04\n",
      "   --- ------------------------------------ 1.7/22.9 MB 6.1 MB/s eta 0:00:04\n",
      "   --- ------------------------------------ 2.0/22.9 MB 6.2 MB/s eta 0:00:04\n",
      "   ---- ----------------------------------- 2.4/22.9 MB 6.3 MB/s eta 0:00:04\n",
      "   ---- ----------------------------------- 2.7/22.9 MB 6.3 MB/s eta 0:00:04\n",
      "   ----- ---------------------------------- 3.0/22.9 MB 6.3 MB/s eta 0:00:04\n",
      "   ----- ---------------------------------- 3.3/22.9 MB 6.4 MB/s eta 0:00:04\n",
      "   ------ --------------------------------- 3.6/22.9 MB 6.4 MB/s eta 0:00:04\n",
      "   ------ --------------------------------- 3.9/22.9 MB 6.4 MB/s eta 0:00:03\n",
      "   ------- -------------------------------- 4.2/22.9 MB 6.4 MB/s eta 0:00:03\n",
      "   ------- -------------------------------- 4.5/22.9 MB 6.4 MB/s eta 0:00:03\n",
      "   -------- ------------------------------- 4.8/22.9 MB 6.4 MB/s eta 0:00:03\n",
      "   -------- ------------------------------- 5.1/22.9 MB 6.4 MB/s eta 0:00:03\n",
      "   --------- ------------------------------ 5.4/22.9 MB 6.4 MB/s eta 0:00:03\n",
      "   --------- ------------------------------ 5.7/22.9 MB 6.5 MB/s eta 0:00:03\n",
      "   ---------- ----------------------------- 6.0/22.9 MB 6.4 MB/s eta 0:00:03\n",
      "   ---------- ----------------------------- 6.3/22.9 MB 6.4 MB/s eta 0:00:03\n",
      "   ----------- ---------------------------- 6.5/22.9 MB 6.3 MB/s eta 0:00:03\n",
      "   ----------- ---------------------------- 6.8/22.9 MB 6.3 MB/s eta 0:00:03\n",
      "   ------------ --------------------------- 7.1/22.9 MB 6.3 MB/s eta 0:00:03\n",
      "   ------------ --------------------------- 7.3/22.9 MB 6.3 MB/s eta 0:00:03\n",
      "   ------------- -------------------------- 7.7/22.9 MB 6.3 MB/s eta 0:00:03\n",
      "   ------------- -------------------------- 8.0/22.9 MB 6.3 MB/s eta 0:00:03\n",
      "   -------------- ------------------------- 8.3/22.9 MB 6.3 MB/s eta 0:00:03\n",
      "   --------------- ------------------------ 8.6/22.9 MB 6.3 MB/s eta 0:00:03\n",
      "   --------------- ------------------------ 8.9/22.9 MB 6.3 MB/s eta 0:00:03\n",
      "   ---------------- ----------------------- 9.2/22.9 MB 6.3 MB/s eta 0:00:03\n",
      "   ---------------- ----------------------- 9.5/22.9 MB 6.3 MB/s eta 0:00:03\n",
      "   ----------------- ---------------------- 9.9/22.9 MB 6.4 MB/s eta 0:00:03\n",
      "   ----------------- ---------------------- 10.2/22.9 MB 6.4 MB/s eta 0:00:02\n",
      "   ------------------ --------------------- 10.4/22.9 MB 6.4 MB/s eta 0:00:02\n",
      "   ------------------ --------------------- 10.8/22.9 MB 6.4 MB/s eta 0:00:02\n",
      "   ------------------- -------------------- 11.1/22.9 MB 6.5 MB/s eta 0:00:02\n",
      "   ------------------- -------------------- 11.4/22.9 MB 6.4 MB/s eta 0:00:02\n",
      "   -------------------- ------------------- 11.7/22.9 MB 6.4 MB/s eta 0:00:02\n",
      "   -------------------- ------------------- 12.0/22.9 MB 6.4 MB/s eta 0:00:02\n",
      "   --------------------- ------------------ 12.2/22.9 MB 6.4 MB/s eta 0:00:02\n",
      "   --------------------- ------------------ 12.5/22.9 MB 6.4 MB/s eta 0:00:02\n",
      "   ---------------------- ----------------- 12.8/22.9 MB 6.4 MB/s eta 0:00:02\n",
      "   ---------------------- ----------------- 13.1/22.9 MB 6.4 MB/s eta 0:00:02\n",
      "   ----------------------- ---------------- 13.4/22.9 MB 6.3 MB/s eta 0:00:02\n",
      "   ----------------------- ---------------- 13.6/22.9 MB 6.3 MB/s eta 0:00:02\n",
      "   ------------------------ --------------- 14.0/22.9 MB 6.3 MB/s eta 0:00:02\n",
      "   ------------------------ --------------- 14.3/22.9 MB 6.3 MB/s eta 0:00:02\n",
      "   ------------------------- -------------- 14.6/22.9 MB 6.3 MB/s eta 0:00:02\n",
      "   ------------------------- -------------- 14.9/22.9 MB 6.3 MB/s eta 0:00:02\n",
      "   -------------------------- ------------- 15.2/22.9 MB 6.3 MB/s eta 0:00:02\n",
      "   --------------------------- ------------ 15.5/22.9 MB 6.3 MB/s eta 0:00:02\n",
      "   --------------------------- ------------ 15.8/22.9 MB 6.3 MB/s eta 0:00:02\n",
      "   ---------------------------- ----------- 16.1/22.9 MB 6.4 MB/s eta 0:00:02\n",
      "   ---------------------------- ----------- 16.4/22.9 MB 6.4 MB/s eta 0:00:02\n",
      "   ----------------------------- ---------- 16.7/22.9 MB 6.4 MB/s eta 0:00:01\n",
      "   ----------------------------- ---------- 17.0/22.9 MB 6.5 MB/s eta 0:00:01\n",
      "   ------------------------------ --------- 17.3/22.9 MB 6.5 MB/s eta 0:00:01\n",
      "   ------------------------------ --------- 17.6/22.9 MB 6.4 MB/s eta 0:00:01\n",
      "   ------------------------------- -------- 17.9/22.9 MB 6.5 MB/s eta 0:00:01\n",
      "   ------------------------------- -------- 18.2/22.9 MB 6.4 MB/s eta 0:00:01\n",
      "   -------------------------------- ------- 18.5/22.9 MB 6.4 MB/s eta 0:00:01\n",
      "   -------------------------------- ------- 18.8/22.9 MB 6.4 MB/s eta 0:00:01\n",
      "   --------------------------------- ------ 19.1/22.9 MB 6.4 MB/s eta 0:00:01\n",
      "   --------------------------------- ------ 19.4/22.9 MB 6.4 MB/s eta 0:00:01\n",
      "   ---------------------------------- ----- 19.7/22.9 MB 6.4 MB/s eta 0:00:01\n",
      "   ---------------------------------- ----- 20.0/22.9 MB 6.4 MB/s eta 0:00:01\n",
      "   ----------------------------------- ---- 20.3/22.9 MB 6.4 MB/s eta 0:00:01\n",
      "   ------------------------------------ --- 20.6/22.9 MB 6.4 MB/s eta 0:00:01\n",
      "   ------------------------------------ --- 20.9/22.9 MB 6.4 MB/s eta 0:00:01\n",
      "   ------------------------------------- -- 21.2/22.9 MB 6.4 MB/s eta 0:00:01\n",
      "   ------------------------------------- -- 21.5/22.9 MB 6.4 MB/s eta 0:00:01\n",
      "   -------------------------------------- - 21.8/22.9 MB 6.3 MB/s eta 0:00:01\n",
      "   -------------------------------------- - 22.1/22.9 MB 6.4 MB/s eta 0:00:01\n",
      "   ---------------------------------------  22.4/22.9 MB 6.4 MB/s eta 0:00:01\n",
      "   ---------------------------------------  22.7/22.9 MB 6.4 MB/s eta 0:00:01\n",
      "   ---------------------------------------  22.9/22.9 MB 6.4 MB/s eta 0:00:01\n",
      "   ---------------------------------------- 22.9/22.9 MB 6.1 MB/s eta 0:00:00\n",
      "Downloading pyproj-3.6.1-cp311-cp311-win_amd64.whl (6.1 MB)\n",
      "   ---------------------------------------- 0.0/6.1 MB ? eta -:--:--\n",
      "   - -------------------------------------- 0.3/6.1 MB 7.7 MB/s eta 0:00:01\n",
      "   --- ------------------------------------ 0.5/6.1 MB 6.8 MB/s eta 0:00:01\n",
      "   ----- ---------------------------------- 0.9/6.1 MB 6.8 MB/s eta 0:00:01\n",
      "   ------- -------------------------------- 1.2/6.1 MB 6.7 MB/s eta 0:00:01\n",
      "   --------- ------------------------------ 1.5/6.1 MB 6.7 MB/s eta 0:00:01\n",
      "   ----------- ---------------------------- 1.8/6.1 MB 6.6 MB/s eta 0:00:01\n",
      "   ------------- -------------------------- 2.1/6.1 MB 6.6 MB/s eta 0:00:01\n",
      "   --------------- ------------------------ 2.4/6.1 MB 6.5 MB/s eta 0:00:01\n",
      "   ----------------- ---------------------- 2.7/6.1 MB 6.7 MB/s eta 0:00:01\n",
      "   -------------------- ------------------- 3.1/6.1 MB 6.8 MB/s eta 0:00:01\n",
      "   --------------------- ------------------ 3.3/6.1 MB 6.7 MB/s eta 0:00:01\n",
      "   ----------------------- ---------------- 3.6/6.1 MB 6.5 MB/s eta 0:00:01\n",
      "   -------------------------- ------------- 4.0/6.1 MB 6.3 MB/s eta 0:00:01\n",
      "   ---------------------------- ----------- 4.4/6.1 MB 6.3 MB/s eta 0:00:01\n",
      "   ------------------------------ --------- 4.6/6.1 MB 6.4 MB/s eta 0:00:01\n",
      "   -------------------------------- ------- 4.9/6.1 MB 6.3 MB/s eta 0:00:01\n",
      "   ---------------------------------- ----- 5.2/6.1 MB 6.3 MB/s eta 0:00:01\n",
      "   ------------------------------------ --- 5.5/6.1 MB 6.3 MB/s eta 0:00:01\n",
      "   ------------------------------------- -- 5.8/6.1 MB 6.2 MB/s eta 0:00:01\n",
      "   ---------------------------------------  6.0/6.1 MB 6.2 MB/s eta 0:00:01\n",
      "   ---------------------------------------  6.1/6.1 MB 6.3 MB/s eta 0:00:01\n",
      "   ---------------------------------------- 6.1/6.1 MB 5.9 MB/s eta 0:00:00\n",
      "Downloading shapely-2.0.3-cp311-cp311-win_amd64.whl (1.4 MB)\n",
      "   ---------------------------------------- 0.0/1.4 MB ? eta -:--:--\n",
      "   ----------- ---------------------------- 0.4/1.4 MB 8.3 MB/s eta 0:00:01\n",
      "   -------------------- ------------------- 0.7/1.4 MB 7.6 MB/s eta 0:00:01\n",
      "   ------------------------ --------------- 0.9/1.4 MB 6.2 MB/s eta 0:00:01\n",
      "   --------------------------------- ------ 1.2/1.4 MB 6.3 MB/s eta 0:00:01\n",
      "   ---------------------------------------  1.4/1.4 MB 6.1 MB/s eta 0:00:01\n",
      "   ---------------------------------------- 1.4/1.4 MB 5.4 MB/s eta 0:00:00\n",
      "Downloading click_plugins-1.1.1-py2.py3-none-any.whl (7.5 kB)\n",
      "Downloading cligj-0.7.2-py3-none-any.whl (7.1 kB)\n",
      "Installing collected packages: shapely, pyproj, cligj, click-plugins, fiona, geopandas\n",
      "Successfully installed click-plugins-1.1.1 cligj-0.7.2 fiona-1.9.6 geopandas-0.14.3 pyproj-3.6.1 shapely-2.0.3\n"
     ]
    }
   ],
   "source": [
    "pip install geopandas"
   ]
  },
  {
   "cell_type": "code",
   "execution_count": 21,
   "id": "41f78845-fdfa-44b3-aa11-863a453402d1",
   "metadata": {},
   "outputs": [],
   "source": [
    "import geopandas as gpd\n",
    "from shapely.geometry import shape"
   ]
  },
  {
   "cell_type": "code",
   "execution_count": 29,
   "id": "fbc5d42d-f5e1-4d89-957d-581c8eac1f25",
   "metadata": {},
   "outputs": [],
   "source": [
    "zonage = gpd.read_file(\"C:/Users/compt/Desktop/de_code/offmarket_re/data/raw/zonages.geojson\")"
   ]
  },
  {
   "cell_type": "code",
   "execution_count": 28,
   "id": "bfc80ec6-5e6f-43ec-8f84-0e661f0ba52d",
   "metadata": {
    "scrolled": true
   },
   "outputs": [
    {
     "ename": "AttributeError",
     "evalue": "'function' object has no attribute 'head'",
     "output_type": "error",
     "traceback": [
      "\u001b[1;31m---------------------------------------------------------------------------\u001b[0m",
      "\u001b[1;31mAttributeError\u001b[0m                            Traceback (most recent call last)",
      "Cell \u001b[1;32mIn[28], line 1\u001b[0m\n\u001b[1;32m----> 1\u001b[0m \u001b[43mzonage\u001b[49m\u001b[38;5;241;43m.\u001b[39;49m\u001b[43mhead\u001b[49m()\n",
      "\u001b[1;31mAttributeError\u001b[0m: 'function' object has no attribute 'head'"
     ]
    }
   ],
   "source": [
    "zonage.head()"
   ]
  },
  {
   "cell_type": "code",
   "execution_count": 19,
   "id": "4a2be7d7-28a2-4d0f-b80b-429a90ee6508",
   "metadata": {},
   "outputs": [
    {
     "data": {
      "text/plain": [
       "array(['U - Zone urbaine', 'N - Zone naturelle et forestière',\n",
       "       'A - Zone agricole', 'AUc - Zone à urbaniser',\n",
       "       'AUs - Zone à urbaniser bloquée',\n",
       "       'Nh - Zone  naturelle constructible sous conditions'], dtype=object)"
      ]
     },
     "execution_count": 19,
     "metadata": {},
     "output_type": "execute_result"
    }
   ],
   "source": [
    "zonage.typezone_lib.unique()\n",
    "#zonage.libelong.unique()"
   ]
  },
  {
   "cell_type": "code",
   "execution_count": 22,
   "id": "412ae98e-7ac9-4821-a89b-e668eb34d43d",
   "metadata": {},
   "outputs": [],
   "source": [
    "cadastre_gdf = gpd.GeoDataFrame.from_features(cadastre['features'])"
   ]
  },
  {
   "cell_type": "code",
   "execution_count": 31,
   "id": "bce6bf88-d611-4685-a7b5-97aca65fc48f",
   "metadata": {},
   "outputs": [
    {
     "name": "stdout",
     "output_type": "stream",
     "text": [
      "EPSG:4326 /// None\n",
      "EPSG:4326 /// EPSG:4326\n"
     ]
    }
   ],
   "source": [
    "print(zonage.crs, '///', cadastre_gdf.crs)\n",
    "import geopandas as gpd\n",
    "\n",
    "# If cadastre_gdf should also be in EPSG:4326\n",
    "cadastre_gdf.set_crs('EPSG:4326', inplace=True)\n",
    "print(zonage.crs, '///', cadastre_gdf.crs)\n"
   ]
  },
  {
   "cell_type": "code",
   "execution_count": 32,
   "id": "e3fe65a2-6820-46a8-84d1-91578040f139",
   "metadata": {},
   "outputs": [
    {
     "name": "stderr",
     "output_type": "stream",
     "text": [
      "C:\\Users\\compt\\AppData\\Local\\Programs\\Python\\Python311\\Lib\\site-packages\\IPython\\core\\interactiveshell.py:3517: FutureWarning: The `op` parameter is deprecated and will be removed in a future release. Please use the `predicate` parameter instead.\n",
      "  if await self.run_code(code, result, async_=asy):\n"
     ]
    }
   ],
   "source": [
    "cadastre_z = gpd.sjoin(zonage, cadastre_gdf, how='left', op='intersects')"
   ]
  },
  {
   "cell_type": "code",
   "execution_count": 33,
   "id": "a04b1f36-f23e-44b7-8624-15f276bf67bb",
   "metadata": {},
   "outputs": [
    {
     "data": {
      "text/html": [
       "<div>\n",
       "<style scoped>\n",
       "    .dataframe tbody tr th:only-of-type {\n",
       "        vertical-align: middle;\n",
       "    }\n",
       "\n",
       "    .dataframe tbody tr th {\n",
       "        vertical-align: top;\n",
       "    }\n",
       "\n",
       "    .dataframe thead th {\n",
       "        text-align: right;\n",
       "    }\n",
       "</style>\n",
       "<table border=\"1\" class=\"dataframe\">\n",
       "  <thead>\n",
       "    <tr style=\"text-align: right;\">\n",
       "      <th></th>\n",
       "      <th>objectid</th>\n",
       "      <th>id_zone</th>\n",
       "      <th>id_docu</th>\n",
       "      <th>typezone</th>\n",
       "      <th>typezone_lib</th>\n",
       "      <th>libelle</th>\n",
       "      <th>libelong</th>\n",
       "      <th>datvalid</th>\n",
       "      <th>attcomp</th>\n",
       "      <th>surface</th>\n",
       "      <th>...</th>\n",
       "      <th>index_right</th>\n",
       "      <th>id</th>\n",
       "      <th>commune</th>\n",
       "      <th>prefixe</th>\n",
       "      <th>section</th>\n",
       "      <th>numero</th>\n",
       "      <th>contenance</th>\n",
       "      <th>arpente</th>\n",
       "      <th>created</th>\n",
       "      <th>updated</th>\n",
       "    </tr>\n",
       "  </thead>\n",
       "  <tbody>\n",
       "    <tr>\n",
       "      <th>0</th>\n",
       "      <td>6502</td>\n",
       "      <td>38562</td>\n",
       "      <td>234</td>\n",
       "      <td>U</td>\n",
       "      <td>U - Zone urbaine</td>\n",
       "      <td>UP4</td>\n",
       "      <td>Tissus à dominante pavillonaire dont les empri...</td>\n",
       "      <td>2019-12-19 01:00:00+00:00</td>\n",
       "      <td>{'01_Forme dominante': '0107', '02_Dispo Génér...</td>\n",
       "      <td>8261.672386</td>\n",
       "      <td>...</td>\n",
       "      <td>584146.0</td>\n",
       "      <td>132058220D0048</td>\n",
       "      <td>13205</td>\n",
       "      <td>822</td>\n",
       "      <td>D</td>\n",
       "      <td>48</td>\n",
       "      <td>249.0</td>\n",
       "      <td>False</td>\n",
       "      <td>1999-04-28</td>\n",
       "      <td>2014-02-12</td>\n",
       "    </tr>\n",
       "    <tr>\n",
       "      <th>0</th>\n",
       "      <td>6502</td>\n",
       "      <td>38562</td>\n",
       "      <td>234</td>\n",
       "      <td>U</td>\n",
       "      <td>U - Zone urbaine</td>\n",
       "      <td>UP4</td>\n",
       "      <td>Tissus à dominante pavillonaire dont les empri...</td>\n",
       "      <td>2019-12-19 01:00:00+00:00</td>\n",
       "      <td>{'01_Forme dominante': '0107', '02_Dispo Génér...</td>\n",
       "      <td>8261.672386</td>\n",
       "      <td>...</td>\n",
       "      <td>577929.0</td>\n",
       "      <td>132058220D0045</td>\n",
       "      <td>13205</td>\n",
       "      <td>822</td>\n",
       "      <td>D</td>\n",
       "      <td>45</td>\n",
       "      <td>314.0</td>\n",
       "      <td>False</td>\n",
       "      <td>1999-04-28</td>\n",
       "      <td>2014-02-12</td>\n",
       "    </tr>\n",
       "    <tr>\n",
       "      <th>0</th>\n",
       "      <td>6502</td>\n",
       "      <td>38562</td>\n",
       "      <td>234</td>\n",
       "      <td>U</td>\n",
       "      <td>U - Zone urbaine</td>\n",
       "      <td>UP4</td>\n",
       "      <td>Tissus à dominante pavillonaire dont les empri...</td>\n",
       "      <td>2019-12-19 01:00:00+00:00</td>\n",
       "      <td>{'01_Forme dominante': '0107', '02_Dispo Génér...</td>\n",
       "      <td>8261.672386</td>\n",
       "      <td>...</td>\n",
       "      <td>584403.0</td>\n",
       "      <td>132058220D0046</td>\n",
       "      <td>13205</td>\n",
       "      <td>822</td>\n",
       "      <td>D</td>\n",
       "      <td>46</td>\n",
       "      <td>297.0</td>\n",
       "      <td>False</td>\n",
       "      <td>1999-04-28</td>\n",
       "      <td>2014-02-12</td>\n",
       "    </tr>\n",
       "    <tr>\n",
       "      <th>0</th>\n",
       "      <td>6502</td>\n",
       "      <td>38562</td>\n",
       "      <td>234</td>\n",
       "      <td>U</td>\n",
       "      <td>U - Zone urbaine</td>\n",
       "      <td>UP4</td>\n",
       "      <td>Tissus à dominante pavillonaire dont les empri...</td>\n",
       "      <td>2019-12-19 01:00:00+00:00</td>\n",
       "      <td>{'01_Forme dominante': '0107', '02_Dispo Génér...</td>\n",
       "      <td>8261.672386</td>\n",
       "      <td>...</td>\n",
       "      <td>584036.0</td>\n",
       "      <td>132058220D0049</td>\n",
       "      <td>13205</td>\n",
       "      <td>822</td>\n",
       "      <td>D</td>\n",
       "      <td>49</td>\n",
       "      <td>332.0</td>\n",
       "      <td>False</td>\n",
       "      <td>1999-04-28</td>\n",
       "      <td>2014-04-29</td>\n",
       "    </tr>\n",
       "    <tr>\n",
       "      <th>0</th>\n",
       "      <td>6502</td>\n",
       "      <td>38562</td>\n",
       "      <td>234</td>\n",
       "      <td>U</td>\n",
       "      <td>U - Zone urbaine</td>\n",
       "      <td>UP4</td>\n",
       "      <td>Tissus à dominante pavillonaire dont les empri...</td>\n",
       "      <td>2019-12-19 01:00:00+00:00</td>\n",
       "      <td>{'01_Forme dominante': '0107', '02_Dispo Génér...</td>\n",
       "      <td>8261.672386</td>\n",
       "      <td>...</td>\n",
       "      <td>578051.0</td>\n",
       "      <td>132058220D0044</td>\n",
       "      <td>13205</td>\n",
       "      <td>822</td>\n",
       "      <td>D</td>\n",
       "      <td>44</td>\n",
       "      <td>248.0</td>\n",
       "      <td>False</td>\n",
       "      <td>1999-04-28</td>\n",
       "      <td>2014-02-12</td>\n",
       "    </tr>\n",
       "  </tbody>\n",
       "</table>\n",
       "<p>5 rows × 23 columns</p>\n",
       "</div>"
      ],
      "text/plain": [
       "   objectid  id_zone  id_docu typezone      typezone_lib libelle  \\\n",
       "0      6502    38562      234        U  U - Zone urbaine     UP4   \n",
       "0      6502    38562      234        U  U - Zone urbaine     UP4   \n",
       "0      6502    38562      234        U  U - Zone urbaine     UP4   \n",
       "0      6502    38562      234        U  U - Zone urbaine     UP4   \n",
       "0      6502    38562      234        U  U - Zone urbaine     UP4   \n",
       "\n",
       "                                            libelong  \\\n",
       "0  Tissus à dominante pavillonaire dont les empri...   \n",
       "0  Tissus à dominante pavillonaire dont les empri...   \n",
       "0  Tissus à dominante pavillonaire dont les empri...   \n",
       "0  Tissus à dominante pavillonaire dont les empri...   \n",
       "0  Tissus à dominante pavillonaire dont les empri...   \n",
       "\n",
       "                   datvalid  \\\n",
       "0 2019-12-19 01:00:00+00:00   \n",
       "0 2019-12-19 01:00:00+00:00   \n",
       "0 2019-12-19 01:00:00+00:00   \n",
       "0 2019-12-19 01:00:00+00:00   \n",
       "0 2019-12-19 01:00:00+00:00   \n",
       "\n",
       "                                             attcomp      surface  ...  \\\n",
       "0  {'01_Forme dominante': '0107', '02_Dispo Génér...  8261.672386  ...   \n",
       "0  {'01_Forme dominante': '0107', '02_Dispo Génér...  8261.672386  ...   \n",
       "0  {'01_Forme dominante': '0107', '02_Dispo Génér...  8261.672386  ...   \n",
       "0  {'01_Forme dominante': '0107', '02_Dispo Génér...  8261.672386  ...   \n",
       "0  {'01_Forme dominante': '0107', '02_Dispo Génér...  8261.672386  ...   \n",
       "\n",
       "  index_right              id commune  prefixe section numero contenance  \\\n",
       "0    584146.0  132058220D0048   13205      822       D     48      249.0   \n",
       "0    577929.0  132058220D0045   13205      822       D     45      314.0   \n",
       "0    584403.0  132058220D0046   13205      822       D     46      297.0   \n",
       "0    584036.0  132058220D0049   13205      822       D     49      332.0   \n",
       "0    578051.0  132058220D0044   13205      822       D     44      248.0   \n",
       "\n",
       "  arpente     created     updated  \n",
       "0   False  1999-04-28  2014-02-12  \n",
       "0   False  1999-04-28  2014-02-12  \n",
       "0   False  1999-04-28  2014-02-12  \n",
       "0   False  1999-04-28  2014-04-29  \n",
       "0   False  1999-04-28  2014-02-12  \n",
       "\n",
       "[5 rows x 23 columns]"
      ]
     },
     "execution_count": 33,
     "metadata": {},
     "output_type": "execute_result"
    }
   ],
   "source": [
    "cadastre_z.head()"
   ]
  },
  {
   "cell_type": "code",
   "execution_count": 38,
   "id": "879495ff-2d00-47ad-a290-4dbcde85ba26",
   "metadata": {},
   "outputs": [
    {
     "data": {
      "text/plain": [
       "Index(['objectid', 'id_zone', 'id_docu', 'typezone', 'typezone_lib', 'libelle',\n",
       "       'libelong', 'datvalid', 'attcomp', 'surface', 'geo_shape',\n",
       "       'geo_point_2d', 'geometry', 'index_right', 'id', 'commune', 'prefixe',\n",
       "       'section', 'numero', 'contenance', 'arpente', 'created', 'updated'],\n",
       "      dtype='object')"
      ]
     },
     "execution_count": 38,
     "metadata": {},
     "output_type": "execute_result"
    }
   ],
   "source": [
    "cadastre_z.columns"
   ]
  },
  {
   "cell_type": "code",
   "execution_count": 41,
   "id": "71fdb5ee-8be3-4e81-9fba-d5eaeca4a5bb",
   "metadata": {},
   "outputs": [
    {
     "data": {
      "text/plain": [
       "objectid                                                     6502\n",
       "id_zone                                                     38562\n",
       "id_docu                                                       234\n",
       "typezone                                                        U\n",
       "typezone_lib                                     U - Zone urbaine\n",
       "libelle                                                       UP4\n",
       "libelong        Tissus à dominante pavillonaire dont les empri...\n",
       "datvalid                                2019-12-19 01:00:00+00:00\n",
       "attcomp         {'01_Forme dominante': '0107', '02_Dispo Génér...\n",
       "surface                                               8261.672386\n",
       "geo_shape                                                    None\n",
       "geo_point_2d    {'lon': 5.413115626887522, 'lat': 43.293690095...\n",
       "geometry        POLYGON ((5.412780716364539 43.293160670770376...\n",
       "index_right                                              584146.0\n",
       "id                                                 132058220D0048\n",
       "commune                                                     13205\n",
       "prefixe                                                       822\n",
       "section                                                         D\n",
       "numero                                                         48\n",
       "contenance                                                  249.0\n",
       "arpente                                                     False\n",
       "created                                                1999-04-28\n",
       "updated                                                2014-02-12\n",
       "Name: 0, dtype: object"
      ]
     },
     "execution_count": 41,
     "metadata": {},
     "output_type": "execute_result"
    }
   ],
   "source": [
    "cadastre_z.iloc[0]"
   ]
  }
 ],
 "metadata": {
  "kernelspec": {
   "display_name": "Python 3 (ipykernel)",
   "language": "python",
   "name": "python3"
  },
  "language_info": {
   "codemirror_mode": {
    "name": "ipython",
    "version": 3
   },
   "file_extension": ".py",
   "mimetype": "text/x-python",
   "name": "python",
   "nbconvert_exporter": "python",
   "pygments_lexer": "ipython3",
   "version": "3.11.1"
  }
 },
 "nbformat": 4,
 "nbformat_minor": 5
}
